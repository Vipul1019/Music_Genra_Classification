{
  "cells": [
    {
      "cell_type": "code",
      "execution_count": null,
      "metadata": {
        "id": "uAzQVS1xGbrG"
      },
      "outputs": [],
      "source": [
        "from google.colab import drive\n",
        "drive.mount('/content/drive')"
      ]
    },
    {
      "cell_type": "code",
      "execution_count": null,
      "metadata": {
        "colab": {
          "base_uri": "https://localhost:8080/",
          "height": 1000
        },
        "id": "43B-NZghkTy2",
        "outputId": "0b602d3d-a16c-48c1-cb79-13e68ac9c5ff"
      },
      "outputs": [
        {
          "output_type": "stream",
          "name": "stdout",
          "text": [
            "Looking in indexes: https://pypi.org/simple, https://us-python.pkg.dev/colab-wheels/public/simple/\n",
            "Collecting tflite-model-maker\n",
            "  Downloading tflite_model_maker-0.4.2-py3-none-any.whl (577 kB)\n",
            "\u001b[K     |████████████████████████████████| 577 kB 25.3 MB/s \n",
            "\u001b[?25hCollecting sentencepiece>=0.1.91\n",
            "  Downloading sentencepiece-0.1.97-cp37-cp37m-manylinux_2_17_x86_64.manylinux2014_x86_64.whl (1.3 MB)\n",
            "\u001b[K     |████████████████████████████████| 1.3 MB 57.2 MB/s \n",
            "\u001b[?25hRequirement already satisfied: matplotlib<3.5.0,>=3.0.3 in /usr/local/lib/python3.7/dist-packages (from tflite-model-maker) (3.2.2)\n",
            "Collecting numba==0.53\n",
            "  Downloading numba-0.53.0-cp37-cp37m-manylinux2014_x86_64.whl (3.4 MB)\n",
            "\u001b[K     |████████████████████████████████| 3.4 MB 53.9 MB/s \n",
            "\u001b[?25hRequirement already satisfied: PyYAML>=5.1 in /usr/local/lib/python3.7/dist-packages (from tflite-model-maker) (6.0)\n",
            "Requirement already satisfied: absl-py>=0.10.0 in /usr/local/lib/python3.7/dist-packages (from tflite-model-maker) (1.2.0)\n",
            "Requirement already satisfied: numpy>=1.17.3 in /usr/local/lib/python3.7/dist-packages (from tflite-model-maker) (1.21.6)\n",
            "Requirement already satisfied: tensorflow-datasets>=2.1.0 in /usr/local/lib/python3.7/dist-packages (from tflite-model-maker) (4.6.0)\n",
            "Collecting tflite-support>=0.4.2\n",
            "  Downloading tflite_support-0.4.2-cp37-cp37m-manylinux2014_x86_64.whl (60.2 MB)\n",
            "\u001b[K     |████████████████████████████████| 60.2 MB 1.2 MB/s \n",
            "\u001b[?25hCollecting tensorflow-model-optimization>=0.5\n",
            "  Downloading tensorflow_model_optimization-0.7.3-py2.py3-none-any.whl (238 kB)\n",
            "\u001b[K     |████████████████████████████████| 238 kB 66.6 MB/s \n",
            "\u001b[?25hRequirement already satisfied: librosa==0.8.1 in /usr/local/lib/python3.7/dist-packages (from tflite-model-maker) (0.8.1)\n",
            "Collecting tensorflowjs<3.19.0,>=2.4.0\n",
            "  Downloading tensorflowjs-3.18.0-py3-none-any.whl (77 kB)\n",
            "\u001b[K     |████████████████████████████████| 77 kB 7.8 MB/s \n",
            "\u001b[?25hRequirement already satisfied: urllib3!=1.25.0,!=1.25.1,<1.26,>=1.21.1 in /usr/local/lib/python3.7/dist-packages (from tflite-model-maker) (1.24.3)\n",
            "Collecting tensorflow-addons>=0.11.2\n",
            "  Downloading tensorflow_addons-0.17.1-cp37-cp37m-manylinux_2_17_x86_64.manylinux2014_x86_64.whl (1.1 MB)\n",
            "\u001b[K     |████████████████████████████████| 1.1 MB 49.5 MB/s \n",
            "\u001b[?25hRequirement already satisfied: lxml>=4.6.1 in /usr/local/lib/python3.7/dist-packages (from tflite-model-maker) (4.9.1)\n",
            "Requirement already satisfied: tensorflow-hub<0.13,>=0.7.0 in /usr/local/lib/python3.7/dist-packages (from tflite-model-maker) (0.12.0)\n",
            "Requirement already satisfied: tensorflow>=2.6.0 in /usr/local/lib/python3.7/dist-packages (from tflite-model-maker) (2.8.2+zzzcolab20220719082949)\n",
            "Collecting scann==1.2.6\n",
            "  Downloading scann-1.2.6-cp37-cp37m-manylinux2014_x86_64.whl (10.9 MB)\n",
            "\u001b[K     |████████████████████████████████| 10.9 MB 63.0 MB/s \n",
            "\u001b[?25hCollecting neural-structured-learning>=1.3.1\n",
            "  Downloading neural_structured_learning-1.4.0-py2.py3-none-any.whl (128 kB)\n",
            "\u001b[K     |████████████████████████████████| 128 kB 79.3 MB/s \n",
            "\u001b[?25hRequirement already satisfied: six>=1.12.0 in /usr/local/lib/python3.7/dist-packages (from tflite-model-maker) (1.15.0)\n",
            "Collecting tf-models-official==2.3.0\n",
            "  Downloading tf_models_official-2.3.0-py2.py3-none-any.whl (840 kB)\n",
            "\u001b[K     |████████████████████████████████| 840 kB 63.5 MB/s \n",
            "\u001b[?25hRequirement already satisfied: pillow>=7.0.0 in /usr/local/lib/python3.7/dist-packages (from tflite-model-maker) (7.1.2)\n",
            "Requirement already satisfied: flatbuffers>=2.0 in /usr/local/lib/python3.7/dist-packages (from tflite-model-maker) (2.0.7)\n",
            "Requirement already satisfied: Cython>=0.29.13 in /usr/local/lib/python3.7/dist-packages (from tflite-model-maker) (0.29.32)\n",
            "Collecting fire>=0.3.1\n",
            "  Downloading fire-0.4.0.tar.gz (87 kB)\n",
            "\u001b[K     |████████████████████████████████| 87 kB 7.0 MB/s \n",
            "\u001b[?25hRequirement already satisfied: audioread>=2.0.0 in /usr/local/lib/python3.7/dist-packages (from librosa==0.8.1->tflite-model-maker) (3.0.0)\n",
            "Requirement already satisfied: resampy>=0.2.2 in /usr/local/lib/python3.7/dist-packages (from librosa==0.8.1->tflite-model-maker) (0.4.0)\n",
            "Requirement already satisfied: packaging>=20.0 in /usr/local/lib/python3.7/dist-packages (from librosa==0.8.1->tflite-model-maker) (21.3)\n",
            "Requirement already satisfied: joblib>=0.14 in /usr/local/lib/python3.7/dist-packages (from librosa==0.8.1->tflite-model-maker) (1.1.0)\n",
            "Requirement already satisfied: scipy>=1.0.0 in /usr/local/lib/python3.7/dist-packages (from librosa==0.8.1->tflite-model-maker) (1.7.3)\n",
            "Requirement already satisfied: scikit-learn!=0.19.0,>=0.14.0 in /usr/local/lib/python3.7/dist-packages (from librosa==0.8.1->tflite-model-maker) (1.0.2)\n",
            "Requirement already satisfied: pooch>=1.0 in /usr/local/lib/python3.7/dist-packages (from librosa==0.8.1->tflite-model-maker) (1.6.0)\n",
            "Requirement already satisfied: soundfile>=0.10.2 in /usr/local/lib/python3.7/dist-packages (from librosa==0.8.1->tflite-model-maker) (0.10.3.post1)\n",
            "Requirement already satisfied: decorator>=3.0.0 in /usr/local/lib/python3.7/dist-packages (from librosa==0.8.1->tflite-model-maker) (4.4.2)\n",
            "Collecting llvmlite<0.37,>=0.36.0rc1\n",
            "  Downloading llvmlite-0.36.0-cp37-cp37m-manylinux2010_x86_64.whl (25.3 MB)\n",
            "\u001b[K     |████████████████████████████████| 25.3 MB 22.5 MB/s \n",
            "\u001b[?25hRequirement already satisfied: setuptools in /usr/local/lib/python3.7/dist-packages (from numba==0.53->tflite-model-maker) (57.4.0)\n",
            "Requirement already satisfied: google-api-python-client>=1.6.7 in /usr/local/lib/python3.7/dist-packages (from tf-models-official==2.3.0->tflite-model-maker) (1.12.11)\n",
            "Collecting py-cpuinfo>=3.3.0\n",
            "  Downloading py-cpuinfo-8.0.0.tar.gz (99 kB)\n",
            "\u001b[K     |████████████████████████████████| 99 kB 12.1 MB/s \n",
            "\u001b[?25hRequirement already satisfied: kaggle>=1.3.9 in /usr/local/lib/python3.7/dist-packages (from tf-models-official==2.3.0->tflite-model-maker) (1.5.12)\n",
            "Requirement already satisfied: google-cloud-bigquery>=0.31.0 in /usr/local/lib/python3.7/dist-packages (from tf-models-official==2.3.0->tflite-model-maker) (1.21.0)\n",
            "Requirement already satisfied: opencv-python-headless in /usr/local/lib/python3.7/dist-packages (from tf-models-official==2.3.0->tflite-model-maker) (4.6.0.66)\n",
            "Requirement already satisfied: pandas>=0.22.0 in /usr/local/lib/python3.7/dist-packages (from tf-models-official==2.3.0->tflite-model-maker) (1.3.5)\n",
            "Collecting dataclasses\n",
            "  Downloading dataclasses-0.6-py3-none-any.whl (14 kB)\n",
            "Requirement already satisfied: psutil>=5.4.3 in /usr/local/lib/python3.7/dist-packages (from tf-models-official==2.3.0->tflite-model-maker) (5.4.8)\n",
            "Requirement already satisfied: gin-config in /usr/local/lib/python3.7/dist-packages (from tf-models-official==2.3.0->tflite-model-maker) (0.5.0)\n",
            "Collecting tf-slim>=1.1.0\n",
            "  Downloading tf_slim-1.1.0-py2.py3-none-any.whl (352 kB)\n",
            "\u001b[K     |████████████████████████████████| 352 kB 55.6 MB/s \n",
            "\u001b[?25hRequirement already satisfied: termcolor in /usr/local/lib/python3.7/dist-packages (from fire>=0.3.1->tflite-model-maker) (1.1.0)\n",
            "Requirement already satisfied: uritemplate<4dev,>=3.0.0 in /usr/local/lib/python3.7/dist-packages (from google-api-python-client>=1.6.7->tf-models-official==2.3.0->tflite-model-maker) (3.0.1)\n",
            "Requirement already satisfied: google-api-core<3dev,>=1.21.0 in /usr/local/lib/python3.7/dist-packages (from google-api-python-client>=1.6.7->tf-models-official==2.3.0->tflite-model-maker) (1.31.6)\n",
            "Requirement already satisfied: httplib2<1dev,>=0.15.0 in /usr/local/lib/python3.7/dist-packages (from google-api-python-client>=1.6.7->tf-models-official==2.3.0->tflite-model-maker) (0.17.4)\n",
            "Requirement already satisfied: google-auth<3dev,>=1.16.0 in /usr/local/lib/python3.7/dist-packages (from google-api-python-client>=1.6.7->tf-models-official==2.3.0->tflite-model-maker) (1.35.0)\n",
            "Requirement already satisfied: google-auth-httplib2>=0.0.3 in /usr/local/lib/python3.7/dist-packages (from google-api-python-client>=1.6.7->tf-models-official==2.3.0->tflite-model-maker) (0.0.4)\n",
            "Requirement already satisfied: requests<3.0.0dev,>=2.18.0 in /usr/local/lib/python3.7/dist-packages (from google-api-core<3dev,>=1.21.0->google-api-python-client>=1.6.7->tf-models-official==2.3.0->tflite-model-maker) (2.23.0)\n",
            "Requirement already satisfied: googleapis-common-protos<2.0dev,>=1.6.0 in /usr/local/lib/python3.7/dist-packages (from google-api-core<3dev,>=1.21.0->google-api-python-client>=1.6.7->tf-models-official==2.3.0->tflite-model-maker) (1.56.4)\n",
            "Requirement already satisfied: protobuf<4.0.0dev,>=3.12.0 in /usr/local/lib/python3.7/dist-packages (from google-api-core<3dev,>=1.21.0->google-api-python-client>=1.6.7->tf-models-official==2.3.0->tflite-model-maker) (3.17.3)\n",
            "Requirement already satisfied: pytz in /usr/local/lib/python3.7/dist-packages (from google-api-core<3dev,>=1.21.0->google-api-python-client>=1.6.7->tf-models-official==2.3.0->tflite-model-maker) (2022.2.1)\n",
            "Requirement already satisfied: rsa<5,>=3.1.4 in /usr/local/lib/python3.7/dist-packages (from google-auth<3dev,>=1.16.0->google-api-python-client>=1.6.7->tf-models-official==2.3.0->tflite-model-maker) (4.9)\n",
            "Requirement already satisfied: cachetools<5.0,>=2.0.0 in /usr/local/lib/python3.7/dist-packages (from google-auth<3dev,>=1.16.0->google-api-python-client>=1.6.7->tf-models-official==2.3.0->tflite-model-maker) (4.2.4)\n",
            "Requirement already satisfied: pyasn1-modules>=0.2.1 in /usr/local/lib/python3.7/dist-packages (from google-auth<3dev,>=1.16.0->google-api-python-client>=1.6.7->tf-models-official==2.3.0->tflite-model-maker) (0.2.8)\n",
            "Requirement already satisfied: google-cloud-core<2.0dev,>=1.0.3 in /usr/local/lib/python3.7/dist-packages (from google-cloud-bigquery>=0.31.0->tf-models-official==2.3.0->tflite-model-maker) (1.0.3)\n",
            "Requirement already satisfied: google-resumable-media!=0.4.0,<0.5.0dev,>=0.3.1 in /usr/local/lib/python3.7/dist-packages (from google-cloud-bigquery>=0.31.0->tf-models-official==2.3.0->tflite-model-maker) (0.4.1)\n",
            "Requirement already satisfied: python-slugify in /usr/local/lib/python3.7/dist-packages (from kaggle>=1.3.9->tf-models-official==2.3.0->tflite-model-maker) (6.1.2)\n",
            "Requirement already satisfied: python-dateutil in /usr/local/lib/python3.7/dist-packages (from kaggle>=1.3.9->tf-models-official==2.3.0->tflite-model-maker) (2.8.2)\n",
            "Requirement already satisfied: certifi in /usr/local/lib/python3.7/dist-packages (from kaggle>=1.3.9->tf-models-official==2.3.0->tflite-model-maker) (2022.6.15)\n",
            "Requirement already satisfied: tqdm in /usr/local/lib/python3.7/dist-packages (from kaggle>=1.3.9->tf-models-official==2.3.0->tflite-model-maker) (4.64.0)\n",
            "Requirement already satisfied: kiwisolver>=1.0.1 in /usr/local/lib/python3.7/dist-packages (from matplotlib<3.5.0,>=3.0.3->tflite-model-maker) (1.4.4)\n",
            "Requirement already satisfied: cycler>=0.10 in /usr/local/lib/python3.7/dist-packages (from matplotlib<3.5.0,>=3.0.3->tflite-model-maker) (0.11.0)\n",
            "Requirement already satisfied: pyparsing!=2.0.4,!=2.1.2,!=2.1.6,>=2.0.1 in /usr/local/lib/python3.7/dist-packages (from matplotlib<3.5.0,>=3.0.3->tflite-model-maker) (3.0.9)\n",
            "Requirement already satisfied: typing-extensions in /usr/local/lib/python3.7/dist-packages (from kiwisolver>=1.0.1->matplotlib<3.5.0,>=3.0.3->tflite-model-maker) (4.1.1)\n",
            "Requirement already satisfied: attrs in /usr/local/lib/python3.7/dist-packages (from neural-structured-learning>=1.3.1->tflite-model-maker) (22.1.0)\n",
            "Requirement already satisfied: appdirs>=1.3.0 in /usr/local/lib/python3.7/dist-packages (from pooch>=1.0->librosa==0.8.1->tflite-model-maker) (1.4.4)\n",
            "Requirement already satisfied: pyasn1<0.5.0,>=0.4.6 in /usr/local/lib/python3.7/dist-packages (from pyasn1-modules>=0.2.1->google-auth<3dev,>=1.16.0->google-api-python-client>=1.6.7->tf-models-official==2.3.0->tflite-model-maker) (0.4.8)\n",
            "Requirement already satisfied: chardet<4,>=3.0.2 in /usr/local/lib/python3.7/dist-packages (from requests<3.0.0dev,>=2.18.0->google-api-core<3dev,>=1.21.0->google-api-python-client>=1.6.7->tf-models-official==2.3.0->tflite-model-maker) (3.0.4)\n",
            "Requirement already satisfied: idna<3,>=2.5 in /usr/local/lib/python3.7/dist-packages (from requests<3.0.0dev,>=2.18.0->google-api-core<3dev,>=1.21.0->google-api-python-client>=1.6.7->tf-models-official==2.3.0->tflite-model-maker) (2.10)\n",
            "Requirement already satisfied: threadpoolctl>=2.0.0 in /usr/local/lib/python3.7/dist-packages (from scikit-learn!=0.19.0,>=0.14.0->librosa==0.8.1->tflite-model-maker) (3.1.0)\n",
            "Requirement already satisfied: cffi>=1.0 in /usr/local/lib/python3.7/dist-packages (from soundfile>=0.10.2->librosa==0.8.1->tflite-model-maker) (1.15.1)\n",
            "Requirement already satisfied: pycparser in /usr/local/lib/python3.7/dist-packages (from cffi>=1.0->soundfile>=0.10.2->librosa==0.8.1->tflite-model-maker) (2.21)\n",
            "Requirement already satisfied: opt-einsum>=2.3.2 in /usr/local/lib/python3.7/dist-packages (from tensorflow>=2.6.0->tflite-model-maker) (3.3.0)\n",
            "Requirement already satisfied: tensorboard<2.9,>=2.8 in /usr/local/lib/python3.7/dist-packages (from tensorflow>=2.6.0->tflite-model-maker) (2.8.0)\n",
            "Requirement already satisfied: gast>=0.2.1 in /usr/local/lib/python3.7/dist-packages (from tensorflow>=2.6.0->tflite-model-maker) (0.5.3)\n",
            "Requirement already satisfied: grpcio<2.0,>=1.24.3 in /usr/local/lib/python3.7/dist-packages (from tensorflow>=2.6.0->tflite-model-maker) (1.47.0)\n",
            "Requirement already satisfied: h5py>=2.9.0 in /usr/local/lib/python3.7/dist-packages (from tensorflow>=2.6.0->tflite-model-maker) (3.1.0)\n",
            "Requirement already satisfied: keras<2.9,>=2.8.0rc0 in /usr/local/lib/python3.7/dist-packages (from tensorflow>=2.6.0->tflite-model-maker) (2.8.0)\n",
            "Requirement already satisfied: keras-preprocessing>=1.1.1 in /usr/local/lib/python3.7/dist-packages (from tensorflow>=2.6.0->tflite-model-maker) (1.1.2)\n",
            "Requirement already satisfied: astunparse>=1.6.0 in /usr/local/lib/python3.7/dist-packages (from tensorflow>=2.6.0->tflite-model-maker) (1.6.3)\n",
            "Requirement already satisfied: google-pasta>=0.1.1 in /usr/local/lib/python3.7/dist-packages (from tensorflow>=2.6.0->tflite-model-maker) (0.2.0)\n",
            "Requirement already satisfied: libclang>=9.0.1 in /usr/local/lib/python3.7/dist-packages (from tensorflow>=2.6.0->tflite-model-maker) (14.0.6)\n",
            "Requirement already satisfied: wrapt>=1.11.0 in /usr/local/lib/python3.7/dist-packages (from tensorflow>=2.6.0->tflite-model-maker) (1.14.1)\n",
            "Requirement already satisfied: tensorflow-estimator<2.9,>=2.8 in /usr/local/lib/python3.7/dist-packages (from tensorflow>=2.6.0->tflite-model-maker) (2.8.0)\n",
            "Requirement already satisfied: tensorflow-io-gcs-filesystem>=0.23.1 in /usr/local/lib/python3.7/dist-packages (from tensorflow>=2.6.0->tflite-model-maker) (0.26.0)\n",
            "Requirement already satisfied: wheel<1.0,>=0.23.0 in /usr/local/lib/python3.7/dist-packages (from astunparse>=1.6.0->tensorflow>=2.6.0->tflite-model-maker) (0.37.1)\n",
            "Requirement already satisfied: cached-property in /usr/local/lib/python3.7/dist-packages (from h5py>=2.9.0->tensorflow>=2.6.0->tflite-model-maker) (1.5.2)\n",
            "Requirement already satisfied: markdown>=2.6.8 in /usr/local/lib/python3.7/dist-packages (from tensorboard<2.9,>=2.8->tensorflow>=2.6.0->tflite-model-maker) (3.4.1)\n",
            "Requirement already satisfied: tensorboard-data-server<0.7.0,>=0.6.0 in /usr/local/lib/python3.7/dist-packages (from tensorboard<2.9,>=2.8->tensorflow>=2.6.0->tflite-model-maker) (0.6.1)\n",
            "Requirement already satisfied: google-auth-oauthlib<0.5,>=0.4.1 in /usr/local/lib/python3.7/dist-packages (from tensorboard<2.9,>=2.8->tensorflow>=2.6.0->tflite-model-maker) (0.4.6)\n",
            "Requirement already satisfied: werkzeug>=0.11.15 in /usr/local/lib/python3.7/dist-packages (from tensorboard<2.9,>=2.8->tensorflow>=2.6.0->tflite-model-maker) (1.0.1)\n",
            "Requirement already satisfied: tensorboard-plugin-wit>=1.6.0 in /usr/local/lib/python3.7/dist-packages (from tensorboard<2.9,>=2.8->tensorflow>=2.6.0->tflite-model-maker) (1.8.1)\n",
            "Requirement already satisfied: requests-oauthlib>=0.7.0 in /usr/local/lib/python3.7/dist-packages (from google-auth-oauthlib<0.5,>=0.4.1->tensorboard<2.9,>=2.8->tensorflow>=2.6.0->tflite-model-maker) (1.3.1)\n",
            "Requirement already satisfied: importlib-metadata>=4.4 in /usr/local/lib/python3.7/dist-packages (from markdown>=2.6.8->tensorboard<2.9,>=2.8->tensorflow>=2.6.0->tflite-model-maker) (4.12.0)\n",
            "Requirement already satisfied: zipp>=0.5 in /usr/local/lib/python3.7/dist-packages (from importlib-metadata>=4.4->markdown>=2.6.8->tensorboard<2.9,>=2.8->tensorflow>=2.6.0->tflite-model-maker) (3.8.1)\n",
            "Requirement already satisfied: oauthlib>=3.0.0 in /usr/local/lib/python3.7/dist-packages (from requests-oauthlib>=0.7.0->google-auth-oauthlib<0.5,>=0.4.1->tensorboard<2.9,>=2.8->tensorflow>=2.6.0->tflite-model-maker) (3.2.0)\n",
            "Requirement already satisfied: typeguard>=2.7 in /usr/local/lib/python3.7/dist-packages (from tensorflow-addons>=0.11.2->tflite-model-maker) (2.7.1)\n",
            "Requirement already satisfied: tensorflow-metadata in /usr/local/lib/python3.7/dist-packages (from tensorflow-datasets>=2.1.0->tflite-model-maker) (1.10.0)\n",
            "Requirement already satisfied: promise in /usr/local/lib/python3.7/dist-packages (from tensorflow-datasets>=2.1.0->tflite-model-maker) (2.3)\n",
            "Requirement already satisfied: toml in /usr/local/lib/python3.7/dist-packages (from tensorflow-datasets>=2.1.0->tflite-model-maker) (0.10.2)\n",
            "Requirement already satisfied: importlib-resources in /usr/local/lib/python3.7/dist-packages (from tensorflow-datasets>=2.1.0->tflite-model-maker) (5.9.0)\n",
            "Requirement already satisfied: etils[epath] in /usr/local/lib/python3.7/dist-packages (from tensorflow-datasets>=2.1.0->tflite-model-maker) (0.7.1)\n",
            "Requirement already satisfied: dill in /usr/local/lib/python3.7/dist-packages (from tensorflow-datasets>=2.1.0->tflite-model-maker) (0.3.5.1)\n",
            "Requirement already satisfied: dm-tree~=0.1.1 in /usr/local/lib/python3.7/dist-packages (from tensorflow-model-optimization>=0.5->tflite-model-maker) (0.1.7)\n",
            "Collecting packaging>=20.0\n",
            "  Downloading packaging-20.9-py2.py3-none-any.whl (40 kB)\n",
            "\u001b[K     |████████████████████████████████| 40 kB 7.8 MB/s \n",
            "\u001b[?25hCollecting pybind11>=2.6.0\n",
            "  Downloading pybind11-2.10.0-py3-none-any.whl (213 kB)\n",
            "\u001b[K     |████████████████████████████████| 213 kB 71.5 MB/s \n",
            "\u001b[?25hCollecting sounddevice>=0.4.4\n",
            "  Downloading sounddevice-0.4.5-py3-none-any.whl (31 kB)\n",
            "Collecting protobuf<4.0.0dev,>=3.12.0\n",
            "  Downloading protobuf-3.19.4-cp37-cp37m-manylinux_2_17_x86_64.manylinux2014_x86_64.whl (1.1 MB)\n",
            "\u001b[K     |████████████████████████████████| 1.1 MB 60.3 MB/s \n",
            "\u001b[?25hRequirement already satisfied: text-unidecode>=1.3 in /usr/local/lib/python3.7/dist-packages (from python-slugify->kaggle>=1.3.9->tf-models-official==2.3.0->tflite-model-maker) (1.3)\n",
            "Building wheels for collected packages: fire, py-cpuinfo\n",
            "  Building wheel for fire (setup.py) ... \u001b[?25l\u001b[?25hdone\n",
            "  Created wheel for fire: filename=fire-0.4.0-py2.py3-none-any.whl size=115942 sha256=7dfda9a094356082a97a18ad2f4f5c57d6a95289260013117f3d8c5aa19fda16\n",
            "  Stored in directory: /root/.cache/pip/wheels/8a/67/fb/2e8a12fa16661b9d5af1f654bd199366799740a85c64981226\n",
            "  Building wheel for py-cpuinfo (setup.py) ... \u001b[?25l\u001b[?25hdone\n",
            "  Created wheel for py-cpuinfo: filename=py_cpuinfo-8.0.0-py3-none-any.whl size=22257 sha256=6f27bb094e46a969a57c3d82ae69caba315b7da12c65a23b8cc951b4d6f8ef19\n",
            "  Stored in directory: /root/.cache/pip/wheels/d2/f1/1f/041add21dc9c4220157f1bd2bd6afe1f1a49524c3396b94401\n",
            "Successfully built fire py-cpuinfo\n",
            "Installing collected packages: protobuf, packaging, llvmlite, numba, tf-slim, tensorflow-model-optimization, tensorflow-addons, sounddevice, sentencepiece, pybind11, py-cpuinfo, dataclasses, tflite-support, tf-models-official, tensorflowjs, scann, neural-structured-learning, fire, tflite-model-maker\n",
            "  Attempting uninstall: protobuf\n",
            "    Found existing installation: protobuf 3.17.3\n",
            "    Uninstalling protobuf-3.17.3:\n",
            "      Successfully uninstalled protobuf-3.17.3\n",
            "  Attempting uninstall: packaging\n",
            "    Found existing installation: packaging 21.3\n",
            "    Uninstalling packaging-21.3:\n",
            "      Successfully uninstalled packaging-21.3\n",
            "  Attempting uninstall: llvmlite\n",
            "    Found existing installation: llvmlite 0.39.0\n",
            "    Uninstalling llvmlite-0.39.0:\n",
            "      Successfully uninstalled llvmlite-0.39.0\n",
            "  Attempting uninstall: numba\n",
            "    Found existing installation: numba 0.56.0\n",
            "    Uninstalling numba-0.56.0:\n",
            "      Successfully uninstalled numba-0.56.0\n",
            "Successfully installed dataclasses-0.6 fire-0.4.0 llvmlite-0.36.0 neural-structured-learning-1.4.0 numba-0.53.0 packaging-20.9 protobuf-3.19.4 py-cpuinfo-8.0.0 pybind11-2.10.0 scann-1.2.6 sentencepiece-0.1.97 sounddevice-0.4.5 tensorflow-addons-0.17.1 tensorflow-model-optimization-0.7.3 tensorflowjs-3.18.0 tf-models-official-2.3.0 tf-slim-1.1.0 tflite-model-maker-0.4.2 tflite-support-0.4.2\n"
          ]
        },
        {
          "output_type": "display_data",
          "data": {
            "application/vnd.colab-display-data+json": {
              "pip_warning": {
                "packages": [
                  "google"
                ]
              }
            }
          },
          "metadata": {}
        }
      ],
      "source": [
        "! pip install tflite-model-maker"
      ]
    },
    {
      "cell_type": "code",
      "execution_count": null,
      "metadata": {
        "colab": {
          "base_uri": "https://localhost:8080/"
        },
        "id": "Uiy4UDRWkrPs",
        "outputId": "e30ef067-5a61-4aea-a161-f3e74bd14094"
      },
      "outputs": [
        {
          "output_type": "stream",
          "name": "stdout",
          "text": [
            "TensorFlow Version: 2.8.2\n",
            "Model Maker Version: 0.4.2\n"
          ]
        }
      ],
      "source": [
        "import tensorflow as tf\n",
        "import tflite_model_maker as mm\n",
        "from tflite_model_maker import audio_classifier\n",
        "import os\n",
        "\n",
        "import numpy as np\n",
        "import matplotlib.pyplot as plt\n",
        "import seaborn as sns\n",
        "\n",
        "import itertools\n",
        "import glob\n",
        "import random\n",
        "\n",
        "from IPython.display import Audio, Image\n",
        "from scipy.io import wavfile\n",
        "\n",
        "print(f\"TensorFlow Version: {tf.__version__}\")\n",
        "print(f\"Model Maker Version: {mm.__version__}\")"
      ]
    },
    {
      "cell_type": "code",
      "execution_count": null,
      "metadata": {
        "id": "bmceeROJkrae"
      },
      "outputs": [],
      "source": [
        "data_dir = '/content/drive/MyDrive/GTZAN_Dataset/Data/genres_split'\n",
        "\n",
        "test_files = os.path.abspath(os.path.join(data_dir, 'test/*/*.wav'))\n",
        "\n",
        "def get_random_audio_file():\n",
        "  test_list = glob.glob(test_files)\n",
        "  random_audio_path = random.choice(test_list)\n",
        "  return random_audio_path\n",
        "\n",
        "\n"
      ]
    },
    {
      "cell_type": "code",
      "source": [
        "# !pip install split-folders"
      ],
      "metadata": {
        "id": "RctuKrG6mLXt"
      },
      "execution_count": null,
      "outputs": []
    },
    {
      "cell_type": "code",
      "source": [
        "# import splitfolders\n",
        "# splitfolders.ratio('/content/drive/MyDrive/GTZAN_Dataset/Data/genres_original', output=\"/content/drive/MyDrive/GTZAN_Dataset/Data/genres_split\", seed=1337, ratio=(0.8,0.2)) "
      ],
      "metadata": {
        "id": "_w2zX5XKl710"
      },
      "execution_count": null,
      "outputs": []
    },
    {
      "cell_type": "code",
      "execution_count": null,
      "metadata": {
        "id": "zGsPndFMkrfv"
      },
      "outputs": [],
      "source": [
        "spec = audio_classifier.YamNetSpec(\n",
        "    keep_yamnet_and_custom_heads=True,\n",
        "    frame_step=3 * audio_classifier.YamNetSpec.EXPECTED_WAVEFORM_LENGTH,\n",
        "    frame_length=6 * audio_classifier.YamNetSpec.EXPECTED_WAVEFORM_LENGTH)"
      ]
    },
    {
      "cell_type": "code",
      "execution_count": null,
      "metadata": {
        "id": "JkyOcO2okriR"
      },
      "outputs": [],
      "source": [
        "train_data = audio_classifier.DataLoader.from_folder(\n",
        "    spec, os.path.join(data_dir, 'train'), cache=True)\n",
        "train_data, validation_data = train_data.split(0.8)\n",
        "test_data = audio_classifier.DataLoader.from_folder(\n",
        "    spec, os.path.join(data_dir, 'test'), cache=True)"
      ]
    },
    {
      "cell_type": "code",
      "execution_count": null,
      "metadata": {
        "id": "rW1SsDsHkrlV",
        "colab": {
          "base_uri": "https://localhost:8080/"
        },
        "outputId": "52ad6895-6a6f-4b6c-9765-79d4a673eed6"
      },
      "outputs": [
        {
          "output_type": "stream",
          "name": "stdout",
          "text": [
            "Training the model\n",
            "Model: \"sequential_1\"\n",
            "_________________________________________________________________\n",
            " Layer (type)                Output Shape              Param #   \n",
            "=================================================================\n",
            " classification_head (Dense)  (None, 10)               10250     \n",
            "                                                                 \n",
            "=================================================================\n",
            "Total params: 10,250\n",
            "Trainable params: 10,250\n",
            "Non-trainable params: 0\n",
            "_________________________________________________________________\n",
            "Epoch 1/50\n",
            "180/180 [==============================] - 773s 4s/step - loss: 1.4610 - acc: 0.5721 - val_loss: 0.9902 - val_acc: 0.7326\n",
            "Epoch 2/50\n",
            "180/180 [==============================] - 1s 7ms/step - loss: 0.8828 - acc: 0.7430 - val_loss: 0.7963 - val_acc: 0.7569\n",
            "Epoch 3/50\n",
            "180/180 [==============================] - 1s 6ms/step - loss: 0.7554 - acc: 0.7635 - val_loss: 0.7285 - val_acc: 0.7674\n",
            "Epoch 4/50\n",
            "180/180 [==============================] - 1s 7ms/step - loss: 0.7021 - acc: 0.7760 - val_loss: 0.7003 - val_acc: 0.7667\n",
            "Epoch 5/50\n",
            "180/180 [==============================] - 1s 7ms/step - loss: 0.6660 - acc: 0.7860 - val_loss: 0.6819 - val_acc: 0.7701\n",
            "Epoch 6/50\n",
            "180/180 [==============================] - 1s 7ms/step - loss: 0.6441 - acc: 0.7913 - val_loss: 0.6655 - val_acc: 0.7736\n",
            "Epoch 7/50\n",
            "180/180 [==============================] - 1s 7ms/step - loss: 0.6268 - acc: 0.7939 - val_loss: 0.6616 - val_acc: 0.7729\n",
            "Epoch 8/50\n",
            "180/180 [==============================] - 1s 7ms/step - loss: 0.6179 - acc: 0.7939 - val_loss: 0.6521 - val_acc: 0.7785\n",
            "Epoch 9/50\n",
            "180/180 [==============================] - 1s 7ms/step - loss: 0.6064 - acc: 0.8023 - val_loss: 0.6486 - val_acc: 0.7812\n",
            "Epoch 10/50\n",
            "180/180 [==============================] - 1s 7ms/step - loss: 0.5928 - acc: 0.8009 - val_loss: 0.6451 - val_acc: 0.7812\n",
            "Epoch 11/50\n",
            "180/180 [==============================] - 1s 7ms/step - loss: 0.5814 - acc: 0.8066 - val_loss: 0.6396 - val_acc: 0.7868\n",
            "Epoch 12/50\n",
            "180/180 [==============================] - 1s 7ms/step - loss: 0.5793 - acc: 0.8093 - val_loss: 0.6349 - val_acc: 0.7875\n",
            "Epoch 13/50\n",
            "180/180 [==============================] - 1s 7ms/step - loss: 0.5742 - acc: 0.8047 - val_loss: 0.6379 - val_acc: 0.7840\n",
            "Epoch 14/50\n",
            "180/180 [==============================] - 1s 7ms/step - loss: 0.5708 - acc: 0.8042 - val_loss: 0.6405 - val_acc: 0.7875\n",
            "Epoch 15/50\n",
            "180/180 [==============================] - 1s 8ms/step - loss: 0.5649 - acc: 0.8058 - val_loss: 0.6338 - val_acc: 0.7917\n",
            "Epoch 16/50\n",
            "180/180 [==============================] - 1s 7ms/step - loss: 0.5630 - acc: 0.8101 - val_loss: 0.6321 - val_acc: 0.7875\n",
            "Epoch 17/50\n",
            "180/180 [==============================] - 1s 7ms/step - loss: 0.5510 - acc: 0.8122 - val_loss: 0.6303 - val_acc: 0.7889\n",
            "Epoch 18/50\n",
            "180/180 [==============================] - 1s 6ms/step - loss: 0.5413 - acc: 0.8117 - val_loss: 0.6356 - val_acc: 0.7910\n",
            "Epoch 19/50\n",
            "180/180 [==============================] - 1s 7ms/step - loss: 0.5463 - acc: 0.8146 - val_loss: 0.6299 - val_acc: 0.7889\n",
            "Epoch 20/50\n",
            "180/180 [==============================] - 1s 7ms/step - loss: 0.5434 - acc: 0.8155 - val_loss: 0.6333 - val_acc: 0.7875\n",
            "Epoch 21/50\n",
            "180/180 [==============================] - 1s 7ms/step - loss: 0.5392 - acc: 0.8145 - val_loss: 0.6254 - val_acc: 0.7917\n",
            "Epoch 22/50\n",
            "180/180 [==============================] - 1s 8ms/step - loss: 0.5415 - acc: 0.8146 - val_loss: 0.6292 - val_acc: 0.7861\n",
            "Epoch 23/50\n",
            "180/180 [==============================] - 1s 7ms/step - loss: 0.5411 - acc: 0.8152 - val_loss: 0.6251 - val_acc: 0.7882\n",
            "Epoch 24/50\n",
            "180/180 [==============================] - 1s 7ms/step - loss: 0.5324 - acc: 0.8181 - val_loss: 0.6287 - val_acc: 0.7840\n",
            "Epoch 25/50\n",
            "180/180 [==============================] - 1s 8ms/step - loss: 0.5228 - acc: 0.8202 - val_loss: 0.6360 - val_acc: 0.7799\n",
            "Epoch 26/50\n",
            "180/180 [==============================] - 1s 7ms/step - loss: 0.5250 - acc: 0.8176 - val_loss: 0.6308 - val_acc: 0.7826\n",
            "Epoch 27/50\n",
            "180/180 [==============================] - 1s 7ms/step - loss: 0.5344 - acc: 0.8157 - val_loss: 0.6297 - val_acc: 0.7854\n",
            "Epoch 28/50\n",
            "180/180 [==============================] - 1s 7ms/step - loss: 0.5230 - acc: 0.8178 - val_loss: 0.6288 - val_acc: 0.7833\n",
            "Epoch 29/50\n",
            "180/180 [==============================] - 1s 7ms/step - loss: 0.5335 - acc: 0.8155 - val_loss: 0.6365 - val_acc: 0.7826\n",
            "Epoch 30/50\n",
            "180/180 [==============================] - 1s 7ms/step - loss: 0.5222 - acc: 0.8152 - val_loss: 0.6326 - val_acc: 0.7840\n",
            "Epoch 31/50\n",
            "180/180 [==============================] - 1s 7ms/step - loss: 0.5244 - acc: 0.8176 - val_loss: 0.6374 - val_acc: 0.7806\n",
            "Epoch 32/50\n",
            "180/180 [==============================] - 1s 7ms/step - loss: 0.5281 - acc: 0.8159 - val_loss: 0.6315 - val_acc: 0.7826\n",
            "Epoch 33/50\n",
            "180/180 [==============================] - 1s 8ms/step - loss: 0.5189 - acc: 0.8178 - val_loss: 0.6303 - val_acc: 0.7819\n",
            "Epoch 34/50\n",
            "180/180 [==============================] - 1s 6ms/step - loss: 0.5178 - acc: 0.8228 - val_loss: 0.6318 - val_acc: 0.7861\n",
            "Epoch 35/50\n",
            "180/180 [==============================] - 1s 7ms/step - loss: 0.5158 - acc: 0.8171 - val_loss: 0.6308 - val_acc: 0.7826\n",
            "Epoch 36/50\n",
            "180/180 [==============================] - 1s 7ms/step - loss: 0.5122 - acc: 0.8235 - val_loss: 0.6319 - val_acc: 0.7854\n",
            "Epoch 37/50\n",
            "180/180 [==============================] - 1s 7ms/step - loss: 0.5221 - acc: 0.8159 - val_loss: 0.6296 - val_acc: 0.7854\n",
            "Epoch 38/50\n",
            "180/180 [==============================] - 1s 7ms/step - loss: 0.5095 - acc: 0.8261 - val_loss: 0.6320 - val_acc: 0.7826\n",
            "Epoch 39/50\n",
            "180/180 [==============================] - 1s 7ms/step - loss: 0.5124 - acc: 0.8206 - val_loss: 0.6309 - val_acc: 0.7833\n",
            "Epoch 40/50\n",
            "180/180 [==============================] - 1s 7ms/step - loss: 0.5135 - acc: 0.8235 - val_loss: 0.6300 - val_acc: 0.7812\n",
            "Epoch 41/50\n",
            "180/180 [==============================] - 1s 7ms/step - loss: 0.5182 - acc: 0.8166 - val_loss: 0.6343 - val_acc: 0.7819\n",
            "Epoch 42/50\n",
            "180/180 [==============================] - 1s 7ms/step - loss: 0.5143 - acc: 0.8190 - val_loss: 0.6302 - val_acc: 0.7840\n",
            "Epoch 43/50\n",
            "180/180 [==============================] - 1s 7ms/step - loss: 0.5120 - acc: 0.8247 - val_loss: 0.6314 - val_acc: 0.7819\n",
            "Epoch 44/50\n",
            "180/180 [==============================] - 1s 7ms/step - loss: 0.5144 - acc: 0.8193 - val_loss: 0.6286 - val_acc: 0.7840\n",
            "Epoch 45/50\n",
            "180/180 [==============================] - 1s 7ms/step - loss: 0.5150 - acc: 0.8218 - val_loss: 0.6217 - val_acc: 0.7917\n",
            "Epoch 46/50\n",
            "180/180 [==============================] - 1s 7ms/step - loss: 0.5075 - acc: 0.8263 - val_loss: 0.6251 - val_acc: 0.7875\n",
            "Epoch 47/50\n",
            "180/180 [==============================] - 1s 7ms/step - loss: 0.5102 - acc: 0.8252 - val_loss: 0.6283 - val_acc: 0.7854\n",
            "Epoch 48/50\n",
            "180/180 [==============================] - 1s 7ms/step - loss: 0.5024 - acc: 0.8206 - val_loss: 0.6287 - val_acc: 0.7861\n",
            "Epoch 49/50\n",
            "180/180 [==============================] - 1s 7ms/step - loss: 0.5069 - acc: 0.8263 - val_loss: 0.6320 - val_acc: 0.7833\n",
            "Epoch 50/50\n",
            "180/180 [==============================] - 1s 6ms/step - loss: 0.5086 - acc: 0.8193 - val_loss: 0.6351 - val_acc: 0.7840\n"
          ]
        }
      ],
      "source": [
        "batch_size = 32\n",
        "epochs = 50\n",
        "\n",
        "print('Training the model')\n",
        "model = audio_classifier.create(\n",
        "    train_data,\n",
        "    spec,\n",
        "    validation_data,\n",
        "    batch_size=batch_size,\n",
        "    epochs=epochs)"
      ]
    },
    {
      "cell_type": "code",
      "execution_count": null,
      "metadata": {
        "colab": {
          "base_uri": "https://localhost:8080/"
        },
        "id": "qJorJaWDtzMk",
        "outputId": "e6fc82d0-1ff2-44aa-f8cc-ab4552fe3386"
      },
      "outputs": [
        {
          "output_type": "stream",
          "name": "stdout",
          "text": [
            "Evaluating the model\n",
            "57/57 [==============================] - 198s 3s/step - loss: 0.5138 - acc: 0.8367\n"
          ]
        },
        {
          "output_type": "execute_result",
          "data": {
            "text/plain": [
              "[0.5137699246406555, 0.8366666436195374]"
            ]
          },
          "metadata": {},
          "execution_count": 15
        }
      ],
      "source": [
        "print('Evaluating the model')\n",
        "model.evaluate(test_data)"
      ]
    },
    {
      "cell_type": "code",
      "execution_count": null,
      "metadata": {
        "colab": {
          "base_uri": "https://localhost:8080/",
          "height": 328
        },
        "id": "-0oFekaut3le",
        "outputId": "2b76492f-3b92-42a5-dac4-a78d8cee8244"
      },
      "outputs": [
        {
          "output_type": "display_data",
          "data": {
            "text/plain": [
              "<Figure size 432x288 with 2 Axes>"
            ],
            "image/png": "[encoded data removed]"
          },
          "metadata": {
            "needs_background": "light"
          }
        }
      ],
      "source": [
        "def show_confusion_matrix(confusion, test_labels):\n",
        "  \"\"\"Compute confusion matrix and normalize.\"\"\"\n",
        "  confusion_normalized = confusion.astype(\"float\") / confusion.sum(axis=1)\n",
        "  axis_labels = test_labels\n",
        "  ax = sns.heatmap(\n",
        "      confusion_normalized, xticklabels=axis_labels, yticklabels=axis_labels,\n",
        "      cmap='Blues', annot=True, fmt='.2f', square=True)\n",
        "  plt.title(\"Confusion matrix\")\n",
        "  plt.ylabel(\"True label\")\n",
        "  plt.xlabel(\"Predicted label\")\n",
        "\n",
        "confusion_matrix = model.confusion_matrix(test_data)\n",
        "show_confusion_matrix(confusion_matrix.numpy(), test_data.index_to_label)"
      ]
    },
    {
      "cell_type": "code",
      "execution_count": null,
      "metadata": {
        "colab": {
          "base_uri": "https://localhost:8080/"
        },
        "id": "pI-xizSSxBXD",
        "outputId": "0e3d4cbc-9320-4bda-c76d-f8b9439bd435"
      },
      "outputs": [
        {
          "output_type": "stream",
          "name": "stdout",
          "text": [
            "Model's input shape and type: [<KerasTensor: shape=(None, 15600) dtype=float32 (created by layer 'audio')>]\n",
            "Model's output shape and type: [<KerasTensor: shape=(None, 521) dtype=float32 (created by layer 'keras_layer')>, <KerasTensor: shape=(None, 10) dtype=float32 (created by layer 'sequential')>]\n"
          ]
        }
      ],
      "source": [
        "serving_model = model.create_serving_model()\n",
        "\n",
        "print(f'Model\\'s input shape and type: {serving_model.inputs}')\n",
        "print(f'Model\\'s output shape and type: {serving_model.outputs}')"
      ]
    },
    {
      "cell_type": "code",
      "execution_count": null,
      "metadata": {
        "id": "V4pm2GR5xBai",
        "colab": {
          "base_uri": "https://localhost:8080/"
        },
        "outputId": "f1a638f0-5ca8-4089-bd53-5aea90a58c87"
      },
      "outputs": [
        {
          "output_type": "stream",
          "name": "stdout",
          "text": [
            "Test audio path: /content/drive/MyDrive/GTZAN_Dataset/Data/genres_original/blues/blues.00000.wav\n",
            "Original size of the audio data: 661794\n",
            "Number of windows for inference: 43\n"
          ]
        }
      ],
      "source": [
        "random_audio=\"/content/drive/MyDrive/GTZAN_Dataset/Data/genres_original/blues/blues.00000.wav\"\n",
        "sample_rate, audio_data = wavfile.read(random_audio, 'rb')\n",
        "\n",
        "audio_data = np.array(audio_data) / tf.int16.max\n",
        "input_size = serving_model.input_shape[1]\n",
        "\n",
        "splitted_audio_data = tf.signal.frame(audio_data, input_size, input_size, pad_end=True, pad_value=0)\n",
        "\n",
        "print(f'Test audio path: {random_audio}')\n",
        "print(f'Original size of the audio data: {len(audio_data)}')\n",
        "print(f'Number of windows for inference: {len(splitted_audio_data)}')"
      ]
    },
    {
      "cell_type": "code",
      "execution_count": null,
      "metadata": {
        "id": "HxFde5zFkrox",
        "colab": {
          "base_uri": "https://localhost:8080/"
        },
        "outputId": "2c7a99f4-d341-46db-db4c-c2eec241f4b1"
      },
      "outputs": [
        {
          "output_type": "stream",
          "name": "stdout",
          "text": [
            "/content/drive/MyDrive/GTZAN_Dataset/Data/genres_original/blues/blues.00000.wav\n",
            "Result of the window ith:  your model class -> score,  (spec class -> score)\n",
            "Result of the window 0: \tblues -> 0.904, \t(Music -> 0.582)\n",
            "Result of the window 1: \tjazz -> 0.922, \t(Music -> 0.559)\n",
            "Result of the window 2: \tcountry -> 0.854, \t(Music -> 0.967)\n",
            "Result of the window 3: \tblues -> 0.987, \t(Music -> 0.700)\n",
            "Result of the window 4: \tcountry -> 0.902, \t(Music -> 0.657)\n",
            "Result of the window 5: \tblues -> 0.955, \t(Music -> 0.924)\n",
            "Result of the window 6: \tblues -> 0.877, \t(Music -> 0.796)\n",
            "Result of the window 7: \tblues -> 0.558, \t(Music -> 0.762)\n",
            "Result of the window 8: \tblues -> 0.829, \t(Music -> 0.960)\n",
            "Result of the window 9: \tjazz -> 0.561, \t(Music -> 0.987)\n",
            "Result of the window 10: \tblues -> 0.971, \t(Music -> 0.748)\n",
            "Result of the window 11: \tblues -> 0.911, \t(Music -> 0.938)\n",
            "Result of the window 12: \trock -> 0.526, \t(Music -> 0.794)\n",
            "Result of the window 13: \tblues -> 0.995, \t(Music -> 0.952)\n",
            "Result of the window 14: \tblues -> 0.605, \t(Music -> 0.706)\n",
            "Result of the window 15: \tblues -> 0.603, \t(Music -> 0.926)\n",
            "Result of the window 16: \tcountry -> 0.422, \t(Music -> 0.925)\n",
            "Result of the window 17: \tblues -> 0.967, \t(Music -> 0.739)\n",
            "Result of the window 18: \tblues -> 0.709, \t(Music -> 0.903)\n",
            "Result of the window 19: \tblues -> 0.913, \t(Music -> 0.898)\n",
            "Result of the window 20: \tblues -> 0.874, \t(Music -> 0.906)\n",
            "Result of the window 21: \tblues -> 0.406, \t(Music -> 0.830)\n",
            "Result of the window 22: \tmetal -> 0.632, \t(Music -> 0.661)\n",
            "Result of the window 23: \treggae -> 0.513, \t(Music -> 0.938)\n",
            "Result of the window 24: \tblues -> 0.969, \t(Music -> 0.930)\n",
            "Result of the window 25: \tblues -> 0.659, \t(Music -> 0.246)\n",
            "Result of the window 26: \tcountry -> 0.301, \t(Music -> 0.718)\n",
            "Result of the window 27: \trock -> 0.532, \t(Music -> 0.574)\n",
            "Result of the window 28: \tblues -> 0.523, \t(Music -> 0.757)\n",
            "Result of the window 29: \tblues -> 0.991, \t(Music -> 0.869)\n",
            "Result of the window 30: \trock -> 0.606, \t(Jingle bell -> 0.857)\n",
            "Result of the window 31: \tblues -> 0.349, \t(Music -> 0.475)\n",
            "Result of the window 32: \tblues -> 0.960, \t(Music -> 0.816)\n",
            "Result of the window 33: \tblues -> 0.867, \t(Music -> 0.865)\n",
            "Result of the window 34: \tblues -> 0.995, \t(Music -> 0.883)\n",
            "Result of the window 35: \trock -> 0.559, \t(Music -> 0.537)\n",
            "Result of the window 36: \tblues -> 0.968, \t(Music -> 0.973)\n",
            "Result of the window 37: \tblues -> 0.997, \t(Music -> 0.783)\n",
            "Result of the window 38: \tblues -> 0.914, \t(Music -> 0.846)\n",
            "Result of the window 39: \tblues -> 0.903, \t(Music -> 0.965)\n",
            "Result of the window 40: \tjazz -> 0.924, \t(Music -> 0.876)\n",
            "Result of the window 41: \tblues -> 0.986, \t(Music -> 0.979)\n",
            "Result of the window 42: \treggae -> 0.384, \t(Music -> 0.853)\n",
            "Mean result: blues -> 0.6065970659255981\n"
          ]
        }
      ],
      "source": [
        "print(random_audio)\n",
        "\n",
        "results = []\n",
        "print('Result of the window ith:  your model class -> score,  (spec class -> score)')\n",
        "for i, data in enumerate(splitted_audio_data):\n",
        "  yamnet_output, inference = serving_model(data)\n",
        "  results.append(inference[0].numpy())\n",
        "  result_index = tf.argmax(inference[0])\n",
        "  spec_result_index = tf.argmax(yamnet_output[0])\n",
        "  t = spec._yamnet_labels()[spec_result_index]\n",
        "  result_str = f'Result of the window {i}: ' \\\n",
        "  f'\\t{test_data.index_to_label[result_index]} -> {inference[0][result_index].numpy():.3f}, ' \\\n",
        "  f'\\t({spec._yamnet_labels()[spec_result_index]} -> {yamnet_output[0][spec_result_index]:.3f})'\n",
        "  print(result_str)\n",
        "\n",
        "\n",
        "results_np = np.array(results)\n",
        "mean_results = results_np.mean(axis=0)\n",
        "result_index = mean_results.argmax()\n",
        "print(f'Mean result: {test_data.index_to_label[result_index]} -> {mean_results[result_index]}')"
      ]
    }
  ],
  "metadata": {
    "colab": {
      "collapsed_sections": [],
      "provenance": []
    },
    "kernelspec": {
      "display_name": "Python 3",
      "name": "python3"
    },
    "language_info": {
      "name": "python"
    },
    "gpuClass": "standard"
  },
  "nbformat": 4,
  "nbformat_minor": 0
}